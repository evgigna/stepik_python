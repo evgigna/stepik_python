{
 "cells": [
  {
   "cell_type": "code",
   "execution_count": 9,
   "metadata": {},
   "outputs": [
    {
     "name": "stdout",
     "output_type": "stream",
     "text": [
      "2\n"
     ]
    }
   ],
   "source": [
    "# Задача_1\n",
    "\n",
    "# Наименьший делитель\n",
    " \n",
    "# На вход программе подается число n>1. Напишите программу, которая выводит его наименьший отличный от 1 делитель.\n",
    "\n",
    "# Формат входных данных\n",
    "# На вход программе подается одно натуральное число n.\n",
    " \n",
    "# Формат выходных данных\n",
    "# Программа должна вывести наименьший делитель отличный от 1.\n",
    "\n",
    "# Примечание. Используйте оператор break при обнаружении делителя.\n",
    "\n",
    "n = int(input())\n",
    "\n",
    "for i in range(2, n+1):\n",
    "    if n % i == 0:\n",
    "        break\n",
    "print(i)\n",
    "\n"
   ]
  },
  {
   "cell_type": "code",
   "execution_count": 12,
   "metadata": {},
   "outputs": [
    {
     "name": "stdout",
     "output_type": "stream",
     "text": [
      "1\n",
      "2\n",
      "3\n",
      "4\n",
      "10\n",
      "11\n"
     ]
    }
   ],
   "source": [
    "# Задача_2\n",
    "\n",
    "# На вход программе подается натуральное число n. Напишите программу, которая выводит числа от 1 до n включительно за исключением:\n",
    "# чисел от 5 до 9 включительно;\n",
    "# чисел от 17 до 37 включительно;\n",
    "# чисел от 78 до 87 включительно.\n",
    "\n",
    "# Формат входных данных\n",
    "# На вход программе подается одно натуральное число n.\n",
    " \n",
    "# Формат выходных данных\n",
    "# Программа должна вывести числа в соответствии с условием задачи, каждое на отдельной строке.\n",
    "\n",
    "# Примечание. Используйте оператор continue .\n",
    "\n",
    "n = int(input())\n",
    "\n",
    "for i in range(1, n+1):\n",
    "    if 5 <= i <= 9 or 17 <= i <= 37 or 78 <= i <= 87:\n",
    "        continue\n",
    "    print(i)"
   ]
  }
 ],
 "metadata": {
  "kernelspec": {
   "display_name": "Python 3",
   "language": "python",
   "name": "python3"
  },
  "language_info": {
   "codemirror_mode": {
    "name": "ipython",
    "version": 3
   },
   "file_extension": ".py",
   "mimetype": "text/x-python",
   "name": "python",
   "nbconvert_exporter": "python",
   "pygments_lexer": "ipython3",
   "version": "3.11.0"
  },
  "orig_nbformat": 4,
  "vscode": {
   "interpreter": {
    "hash": "ddac41972b0c940883be4cef39408fe7bdd4a6baf6c20cac086328bb00100dca"
   }
  }
 },
 "nbformat": 4,
 "nbformat_minor": 2
}
